{
  "nbformat": 4,
  "nbformat_minor": 0,
  "metadata": {
    "colab": {
      "provenance": []
    },
    "kernelspec": {
      "name": "python3",
      "display_name": "Python 3"
    },
    "language_info": {
      "name": "python"
    }
  },
  "cells": [
    {
      "cell_type": "code",
      "execution_count": 1,
      "metadata": {
        "id": "wQTv51Edann2"
      },
      "outputs": [],
      "source": [
        "import pandas as pd\n",
        "import numpy as np\n",
        "from sklearn.model_selection import train_test_split\n",
        "from sklearn.preprocessing import LabelEncoder\n",
        "from tensorflow.keras.preprocessing.text import Tokenizer\n",
        "from tensorflow.keras.preprocessing.sequence import pad_sequences\n",
        "from tensorflow.keras.models import Model\n",
        "from tensorflow.keras.layers import Dense, Embedding, Flatten, Input, Concatenate"
      ]
    },
    {
      "cell_type": "code",
      "source": [
        "# Generate realistic dummy data\n",
        "data = {\n",
        "    'name': [\n",
        "        'Apple iPhone 13',\n",
        "        'Samsung Galaxy S21',\n",
        "        'Sony WH-1000XM4 Headphones',\n",
        "        'Dell XPS 13 Laptop',\n",
        "        'Amazon Echo Dot'\n",
        "    ],\n",
        "    'description': [\n",
        "        'The latest model of the Apple iPhone with A15 Bionic chip and improved camera.',\n",
        "        'Samsung\\'s flagship phone with a stunning display and powerful performance.',\n",
        "        'Noise-cancelling over-ear headphones with exceptional sound quality.',\n",
        "        'Lightweight and powerful laptop with an Intel Core i7 processor.',\n",
        "        'Smart speaker with Alexa voice assistant and improved sound quality.'\n",
        "    ],\n",
        "    'price': [999.99, 799.99, 349.99, 1299.99, 49.99],\n",
        "    'category': ['Electronics', 'Electronics', 'Audio', 'Computers', 'Smart Home']\n",
        "}"
      ],
      "metadata": {
        "id": "a0YajbRra4lU"
      },
      "execution_count": 2,
      "outputs": []
    },
    {
      "cell_type": "code",
      "source": [
        "df = pd.DataFrame(data)"
      ],
      "metadata": {
        "id": "q8CXBWfGbAHW"
      },
      "execution_count": 4,
      "outputs": []
    },
    {
      "cell_type": "code",
      "source": [
        "print(df)"
      ],
      "metadata": {
        "colab": {
          "base_uri": "https://localhost:8080/"
        },
        "id": "szXBDEC3bDyo",
        "outputId": "2a03a6d4-9581-4499-d43a-7bb0de80ffb0"
      },
      "execution_count": 5,
      "outputs": [
        {
          "output_type": "stream",
          "name": "stdout",
          "text": [
            "                         name  \\\n",
            "0             Apple iPhone 13   \n",
            "1          Samsung Galaxy S21   \n",
            "2  Sony WH-1000XM4 Headphones   \n",
            "3          Dell XPS 13 Laptop   \n",
            "4             Amazon Echo Dot   \n",
            "\n",
            "                                         description    price     category  \n",
            "0  The latest model of the Apple iPhone with A15 ...   999.99  Electronics  \n",
            "1  Samsung's flagship phone with a stunning displ...   799.99  Electronics  \n",
            "2  Noise-cancelling over-ear headphones with exce...   349.99        Audio  \n",
            "3  Lightweight and powerful laptop with an Intel ...  1299.99    Computers  \n",
            "4  Smart speaker with Alexa voice assistant and i...    49.99   Smart Home  \n"
          ]
        }
      ]
    },
    {
      "cell_type": "code",
      "source": [
        "# Encode the categorical labels\n",
        "label_encoder = LabelEncoder()\n",
        "df['category_encoded'] = label_encoder.fit_transform(df['category'])"
      ],
      "metadata": {
        "id": "m0wijZh1bS_b"
      },
      "execution_count": 6,
      "outputs": []
    },
    {
      "cell_type": "code",
      "source": [
        "# Tokenize the text data\n",
        "tokenizer = Tokenizer()\n",
        "tokenizer.fit_on_texts(df['description'])\n",
        "sequences = tokenizer.texts_to_sequences(df['description'])\n",
        "padded_sequences = pad_sequences(sequences, maxlen=10)"
      ],
      "metadata": {
        "id": "pO-OkWv9bUSb"
      },
      "execution_count": 7,
      "outputs": []
    },
    {
      "cell_type": "code",
      "source": [
        "# Print tokenized sequences and shapes for debugging\n",
        "print(\"Padded Sequences:\\n\", padded_sequences)\n",
        "print(\"Padded Sequences Shape:\", padded_sequences.shape)\n"
      ],
      "metadata": {
        "colab": {
          "base_uri": "https://localhost:8080/"
        },
        "id": "cFgl3WcdbW9k",
        "outputId": "2b44d489-c5b4-4de1-b4c5-e699e0a92228"
      },
      "execution_count": 8,
      "outputs": [
        {
          "output_type": "stream",
          "name": "stdout",
          "text": [
            "Padded Sequences:\n",
            " [[ 3 11 12  1 13 14 15  2  4 16]\n",
            " [17 18 19  1 20 21 22  2  5 23]\n",
            " [ 0 24 25 26 27 28  1 29  6  7]\n",
            " [30  2  5 31  1 32 33 34 35 36]\n",
            " [37 38  1 39 40 41  2  4  6  7]]\n",
            "Padded Sequences Shape: (5, 10)\n"
          ]
        }
      ]
    },
    {
      "cell_type": "code",
      "source": [
        "# Prepare the final dataset\n",
        "vocab_size = len(tokenizer.word_index) + 1  # Vocabulary size including the padding index\n",
        "print(\"Vocabulary Size:\", vocab_size)\n",
        "X_text = padded_sequences\n",
        "X_numeric = df[['price']].values.reshape(-1, 1)\n",
        "y = df['category_encoded']"
      ],
      "metadata": {
        "colab": {
          "base_uri": "https://localhost:8080/"
        },
        "id": "p8rIKzJ0bbLG",
        "outputId": "7742242f-e651-498b-ce7b-5aaa472402bb"
      },
      "execution_count": 9,
      "outputs": [
        {
          "output_type": "stream",
          "name": "stdout",
          "text": [
            "Vocabulary Size: 42\n"
          ]
        }
      ]
    },
    {
      "cell_type": "code",
      "source": [
        "# Print X and y shapes for debugging\n",
        "print(\"X_text Shape:\", X_text.shape)\n",
        "print(\"X_numeric Shape:\", X_numeric.shape)\n",
        "print(\"y Shape:\", y.shape)"
      ],
      "metadata": {
        "colab": {
          "base_uri": "https://localhost:8080/"
        },
        "id": "a2ZwLPVJbd-V",
        "outputId": "ce328d9b-43f6-46ba-afbd-94e5193130dd"
      },
      "execution_count": 10,
      "outputs": [
        {
          "output_type": "stream",
          "name": "stdout",
          "text": [
            "X_text Shape: (5, 10)\n",
            "X_numeric Shape: (5, 1)\n",
            "y Shape: (5,)\n"
          ]
        }
      ]
    },
    {
      "cell_type": "code",
      "source": [
        "# Split the data into training and testing sets\n",
        "X_text_train, X_text_test, X_numeric_train, X_numeric_test, y_train, y_test = train_test_split(\n",
        "    X_text, X_numeric, y, test_size=0.2, random_state=42\n",
        ")\n"
      ],
      "metadata": {
        "id": "hND27RJbbhGo"
      },
      "execution_count": 11,
      "outputs": []
    },
    {
      "cell_type": "code",
      "source": [
        "# Define the model\n",
        "text_input = Input(shape=(10,), name='text_input')\n",
        "numeric_input = Input(shape=(1,), name='numeric_input')\n"
      ],
      "metadata": {
        "id": "s94cNe5FbjkF"
      },
      "execution_count": 12,
      "outputs": []
    },
    {
      "cell_type": "code",
      "source": [
        "# Text processing branch\n",
        "embedding = Embedding(input_dim=vocab_size, output_dim=10, input_length=10)(text_input)\n",
        "flattened_text = Flatten()(embedding)"
      ],
      "metadata": {
        "id": "hTDNHxeQbmgx"
      },
      "execution_count": 13,
      "outputs": []
    },
    {
      "cell_type": "code",
      "source": [
        "# Concatenate text and numeric branches\n",
        "concatenated = Concatenate()([flattened_text, numeric_input])\n"
      ],
      "metadata": {
        "id": "1hjfObN8bozz"
      },
      "execution_count": 14,
      "outputs": []
    },
    {
      "cell_type": "code",
      "source": [
        "# Dense layers\n",
        "dense1 = Dense(10, activation='relu')(concatenated)\n",
        "output = Dense(len(df['category'].unique()), activation='softmax')(dense1)"
      ],
      "metadata": {
        "id": "35odU1UJbrv7"
      },
      "execution_count": 15,
      "outputs": []
    },
    {
      "cell_type": "code",
      "source": [
        "# Build the model\n",
        "model = Model(inputs=[text_input, numeric_input], outputs=output)"
      ],
      "metadata": {
        "id": "z-J2MrfsbvdX"
      },
      "execution_count": 16,
      "outputs": []
    },
    {
      "cell_type": "code",
      "source": [
        "# Print model summary\n",
        "model.summary()"
      ],
      "metadata": {
        "colab": {
          "base_uri": "https://localhost:8080/"
        },
        "id": "lkr10-aIbxqu",
        "outputId": "52020a86-0a33-4153-b26f-b128baa08908"
      },
      "execution_count": 17,
      "outputs": [
        {
          "output_type": "stream",
          "name": "stdout",
          "text": [
            "Model: \"model\"\n",
            "__________________________________________________________________________________________________\n",
            " Layer (type)                Output Shape                 Param #   Connected to                  \n",
            "==================================================================================================\n",
            " text_input (InputLayer)     [(None, 10)]                 0         []                            \n",
            "                                                                                                  \n",
            " embedding (Embedding)       (None, 10, 10)               420       ['text_input[0][0]']          \n",
            "                                                                                                  \n",
            " flatten (Flatten)           (None, 100)                  0         ['embedding[0][0]']           \n",
            "                                                                                                  \n",
            " numeric_input (InputLayer)  [(None, 1)]                  0         []                            \n",
            "                                                                                                  \n",
            " concatenate (Concatenate)   (None, 101)                  0         ['flatten[0][0]',             \n",
            "                                                                     'numeric_input[0][0]']       \n",
            "                                                                                                  \n",
            " dense (Dense)               (None, 10)                   1020      ['concatenate[0][0]']         \n",
            "                                                                                                  \n",
            " dense_1 (Dense)             (None, 4)                    44        ['dense[0][0]']               \n",
            "                                                                                                  \n",
            "==================================================================================================\n",
            "Total params: 1484 (5.80 KB)\n",
            "Trainable params: 1484 (5.80 KB)\n",
            "Non-trainable params: 0 (0.00 Byte)\n",
            "__________________________________________________________________________________________________\n"
          ]
        }
      ]
    },
    {
      "cell_type": "code",
      "source": [
        "# Compile the model\n",
        "model.compile(optimizer='adam', loss='sparse_categorical_crossentropy', metrics=['accuracy'])\n"
      ],
      "metadata": {
        "id": "s7ZL7JgAb2dg"
      },
      "execution_count": 18,
      "outputs": []
    },
    {
      "cell_type": "code",
      "source": [
        "# Train the model\n",
        "history = model.fit(\n",
        "    {'text_input': X_text_train, 'numeric_input': X_numeric_train},\n",
        "    y_train,\n",
        "    epochs=10,\n",
        "    validation_data=({'text_input': X_text_test, 'numeric_input': X_numeric_test}, y_test)\n",
        ")"
      ],
      "metadata": {
        "colab": {
          "base_uri": "https://localhost:8080/"
        },
        "id": "PHD6Qccib3yE",
        "outputId": "7b12875e-61ee-46f3-8269-667b2e01563c"
      },
      "execution_count": 19,
      "outputs": [
        {
          "output_type": "stream",
          "name": "stdout",
          "text": [
            "Epoch 1/10\n",
            "1/1 [==============================] - 1s 1s/step - loss: 149.6736 - accuracy: 0.2500 - val_loss: 9.4535 - val_accuracy: 0.0000e+00\n",
            "Epoch 2/10\n",
            "1/1 [==============================] - 0s 47ms/step - loss: 147.1979 - accuracy: 0.2500 - val_loss: 6.6807 - val_accuracy: 0.0000e+00\n",
            "Epoch 3/10\n",
            "1/1 [==============================] - 0s 39ms/step - loss: 144.7406 - accuracy: 0.2500 - val_loss: 3.9400 - val_accuracy: 0.0000e+00\n",
            "Epoch 4/10\n",
            "1/1 [==============================] - 0s 35ms/step - loss: 142.3179 - accuracy: 0.2500 - val_loss: 1.4502 - val_accuracy: 0.0000e+00\n",
            "Epoch 5/10\n",
            "1/1 [==============================] - 0s 39ms/step - loss: 140.0381 - accuracy: 0.2500 - val_loss: 0.2148 - val_accuracy: 1.0000\n",
            "Epoch 6/10\n",
            "1/1 [==============================] - 0s 56ms/step - loss: 138.8043 - accuracy: 0.2500 - val_loss: 0.0411 - val_accuracy: 1.0000\n",
            "Epoch 7/10\n",
            "1/1 [==============================] - 0s 36ms/step - loss: 138.1672 - accuracy: 0.2500 - val_loss: 0.0152 - val_accuracy: 1.0000\n",
            "Epoch 8/10\n",
            "1/1 [==============================] - 0s 35ms/step - loss: 137.3505 - accuracy: 0.2500 - val_loss: 0.0097 - val_accuracy: 1.0000\n",
            "Epoch 9/10\n",
            "1/1 [==============================] - 0s 41ms/step - loss: 136.3650 - accuracy: 0.2500 - val_loss: 0.0095 - val_accuracy: 1.0000\n",
            "Epoch 10/10\n",
            "1/1 [==============================] - 0s 53ms/step - loss: 135.2519 - accuracy: 0.2500 - val_loss: 0.0131 - val_accuracy: 1.0000\n"
          ]
        }
      ]
    },
    {
      "cell_type": "code",
      "source": [
        "# Print training history\n",
        "for epoch in range(10):\n",
        "    print(f\"Epoch {epoch+1}/{10}\")\n",
        "    print(f\"Loss: {history.history['loss'][epoch]:.4f}\")\n",
        "    print(f\"Accuracy: {history.history['accuracy'][epoch]:.4f}\")\n",
        "    print(f\"Validation Loss: {history.history['val_loss'][epoch]:.4f}\")\n",
        "    print(f\"Validation Accuracy: {history.history['val_accuracy'][epoch]:.4f}\")"
      ],
      "metadata": {
        "colab": {
          "base_uri": "https://localhost:8080/"
        },
        "id": "sB6gELtib9EG",
        "outputId": "d8caea17-fd01-4095-f9d8-8b62a25045cf"
      },
      "execution_count": 20,
      "outputs": [
        {
          "output_type": "stream",
          "name": "stdout",
          "text": [
            "Epoch 1/10\n",
            "Loss: 149.6736\n",
            "Accuracy: 0.2500\n",
            "Validation Loss: 9.4535\n",
            "Validation Accuracy: 0.0000\n",
            "Epoch 2/10\n",
            "Loss: 147.1979\n",
            "Accuracy: 0.2500\n",
            "Validation Loss: 6.6807\n",
            "Validation Accuracy: 0.0000\n",
            "Epoch 3/10\n",
            "Loss: 144.7406\n",
            "Accuracy: 0.2500\n",
            "Validation Loss: 3.9400\n",
            "Validation Accuracy: 0.0000\n",
            "Epoch 4/10\n",
            "Loss: 142.3179\n",
            "Accuracy: 0.2500\n",
            "Validation Loss: 1.4502\n",
            "Validation Accuracy: 0.0000\n",
            "Epoch 5/10\n",
            "Loss: 140.0381\n",
            "Accuracy: 0.2500\n",
            "Validation Loss: 0.2148\n",
            "Validation Accuracy: 1.0000\n",
            "Epoch 6/10\n",
            "Loss: 138.8043\n",
            "Accuracy: 0.2500\n",
            "Validation Loss: 0.0411\n",
            "Validation Accuracy: 1.0000\n",
            "Epoch 7/10\n",
            "Loss: 138.1672\n",
            "Accuracy: 0.2500\n",
            "Validation Loss: 0.0152\n",
            "Validation Accuracy: 1.0000\n",
            "Epoch 8/10\n",
            "Loss: 137.3505\n",
            "Accuracy: 0.2500\n",
            "Validation Loss: 0.0097\n",
            "Validation Accuracy: 1.0000\n",
            "Epoch 9/10\n",
            "Loss: 136.3650\n",
            "Accuracy: 0.2500\n",
            "Validation Loss: 0.0095\n",
            "Validation Accuracy: 1.0000\n",
            "Epoch 10/10\n",
            "Loss: 135.2519\n",
            "Accuracy: 0.2500\n",
            "Validation Loss: 0.0131\n",
            "Validation Accuracy: 1.0000\n"
          ]
        }
      ]
    },
    {
      "cell_type": "code",
      "source": [
        "# Evaluate the model\n",
        "loss, accuracy = model.evaluate({'text_input': X_text_test, 'numeric_input': X_numeric_test}, y_test)\n",
        "print(f\"Test Loss: {loss:.4f}\")\n",
        "print(f\"Test Accuracy: {accuracy:.2f}\")"
      ],
      "metadata": {
        "colab": {
          "base_uri": "https://localhost:8080/"
        },
        "id": "sN4gBP8UcBWN",
        "outputId": "cd73cfe2-22df-48fd-b548-8103a0db188c"
      },
      "execution_count": 21,
      "outputs": [
        {
          "output_type": "stream",
          "name": "stdout",
          "text": [
            "1/1 [==============================] - 0s 29ms/step - loss: 0.0131 - accuracy: 1.0000\n",
            "Test Loss: 0.0131\n",
            "Test Accuracy: 1.00\n"
          ]
        }
      ]
    }
  ]
}